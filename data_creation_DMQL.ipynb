{
 "cells": [
  {
   "cell_type": "code",
   "execution_count": 1,
   "metadata": {
    "id": "PkLR630STp1N"
   },
   "outputs": [],
   "source": [
    "import pandas as pd\n",
    "import numpy as np"
   ]
  },
  {
   "cell_type": "code",
   "execution_count": 2,
   "metadata": {
    "id": "eyLq8YLhT1Ag"
   },
   "outputs": [],
   "source": [
    "# cust_df = pd.read_csv('customers_table .csv')\n",
    "# dist_df = pd.read_csv('distances_table_with_seller_id.csv')\n",
    "# orders_df = pd.read_csv('orders_table .csv')\n",
    "# order_items_df = pd.read_csv('order_items_table .csv')\n",
    "# prod_df = pd.read_csv('products_table_with_seller_id.csv')\n",
    "# prods_new = pd.read_csv('master grocery list.csv')"
   ]
  },
  {
   "cell_type": "code",
   "execution_count": 3,
   "metadata": {
    "id": "SqIIKYSCeD1h"
   },
   "outputs": [
    {
     "ename": "NameError",
     "evalue": "name 'prods_new' is not defined",
     "output_type": "error",
     "traceback": [
      "\u001b[1;31m---------------------------------------------------------------------------\u001b[0m",
      "\u001b[1;31mNameError\u001b[0m                                 Traceback (most recent call last)",
      "\u001b[1;32m<ipython-input-3-199a315ffb12>\u001b[0m in \u001b[0;36m<module>\u001b[1;34m\u001b[0m\n\u001b[0;32m      3\u001b[0m \u001b[0mseller_ids\u001b[0m \u001b[1;33m=\u001b[0m \u001b[0mlist\u001b[0m\u001b[1;33m(\u001b[0m\u001b[0mrange\u001b[0m\u001b[1;33m(\u001b[0m\u001b[1;36m1\u001b[0m\u001b[1;33m,\u001b[0m\u001b[1;36m64\u001b[0m\u001b[1;33m)\u001b[0m\u001b[1;33m)\u001b[0m\u001b[1;33m\u001b[0m\u001b[1;33m\u001b[0m\u001b[0m\n\u001b[0;32m      4\u001b[0m \u001b[1;33m\u001b[0m\u001b[0m\n\u001b[1;32m----> 5\u001b[1;33m \u001b[1;32mfor\u001b[0m \u001b[0mn\u001b[0m\u001b[1;33m,\u001b[0m \u001b[0mi\u001b[0m \u001b[1;32min\u001b[0m \u001b[0menumerate\u001b[0m\u001b[1;33m(\u001b[0m\u001b[0mprods_new\u001b[0m\u001b[1;33m)\u001b[0m\u001b[1;33m:\u001b[0m\u001b[1;33m\u001b[0m\u001b[1;33m\u001b[0m\u001b[0m\n\u001b[0m\u001b[0;32m      6\u001b[0m     \u001b[0mprice\u001b[0m \u001b[1;33m=\u001b[0m \u001b[0mnp\u001b[0m\u001b[1;33m.\u001b[0m\u001b[0mrandom\u001b[0m\u001b[1;33m.\u001b[0m\u001b[0mrandint\u001b[0m\u001b[1;33m(\u001b[0m\u001b[1;36m10\u001b[0m\u001b[1;33m,\u001b[0m\u001b[1;36m30\u001b[0m\u001b[1;33m)\u001b[0m\u001b[1;33m\u001b[0m\u001b[1;33m\u001b[0m\u001b[0m\n\u001b[0;32m      7\u001b[0m     \u001b[0mprod_list\u001b[0m \u001b[1;33m=\u001b[0m \u001b[0mprods_new\u001b[0m\u001b[1;33m[\u001b[0m\u001b[0mi\u001b[0m\u001b[1;33m]\u001b[0m\u001b[1;33m.\u001b[0m\u001b[0mtolist\u001b[0m\u001b[1;33m(\u001b[0m\u001b[1;33m)\u001b[0m\u001b[1;33m\u001b[0m\u001b[1;33m\u001b[0m\u001b[0m\n",
      "\u001b[1;31mNameError\u001b[0m: name 'prods_new' is not defined"
     ]
    }
   ],
   "source": [
    "all_prods = []\n",
    "\n",
    "seller_ids = list(range(1,64))\n",
    "\n",
    "for n, i in enumerate(prods_new):\n",
    "    price = np.random.randint(10,30)\n",
    "    prod_list = prods_new[i].tolist()\n",
    "    s_ids = seller_ids[3*n:3*n + 3]\n",
    "    new_list = []\n",
    "    for prod in prod_list:\n",
    "        try:\n",
    "            new_list += prod[2:].split(' / ')\n",
    "        except:\n",
    "            pass\n",
    "    \n",
    "    len(new_list)\n",
    "\n",
    "    all_prods += [[j,i, random.choice(s_ids), np.random.randint(80,150), np.random.randint(-5,5) + price ] for j in new_list]"
   ]
  },
  {
   "cell_type": "code",
   "execution_count": null,
   "metadata": {
    "id": "sYLpW896e_nn"
   },
   "outputs": [],
   "source": [
    "all_prods = pd.DataFrame(all_prods, columns = ['Product', 'Category', 'SellerID','Quantity', 'Price'])"
   ]
  },
  {
   "cell_type": "code",
   "execution_count": null,
   "metadata": {
    "id": "wWFSc9gsfjeF"
   },
   "outputs": [],
   "source": [
    "all_prods.dropna(inplace = True)"
   ]
  },
  {
   "cell_type": "code",
   "execution_count": null,
   "metadata": {
    "id": "-j1HV7uef6SX"
   },
   "outputs": [],
   "source": [
    "# all_prods['Product'] = all_prods['Product'].apply(lambda x: x[2:])"
   ]
  },
  {
   "cell_type": "code",
   "execution_count": null,
   "metadata": {
    "id": "0vY0wYVUf7s-"
   },
   "outputs": [],
   "source": [
    "all_prods = all_prods[all_prods['Product'].apply(lambda x : len(x) > 2)].reset_index(drop = True)"
   ]
  },
  {
   "cell_type": "code",
   "execution_count": null,
   "metadata": {
    "colab": {
     "base_uri": "https://localhost:8080/"
    },
    "id": "ekKB-URJgTUn",
    "outputId": "56b7a6a1-505e-4758-a338-42c7217e2e0b"
   },
   "outputs": [
    {
     "data": {
      "text/plain": [
       "21"
      ]
     },
     "execution_count": 208,
     "metadata": {},
     "output_type": "execute_result"
    }
   ],
   "source": [
    "all_prods['Category'].nunique()"
   ]
  },
  {
   "cell_type": "code",
   "execution_count": null,
   "metadata": {
    "colab": {
     "base_uri": "https://localhost:8080/"
    },
    "id": "8zfCEf_jmcpM",
    "outputId": "f0a00d56-2c8b-4b02-ebe9-ed74bb95f1a1"
   },
   "outputs": [
    {
     "data": {
      "text/plain": [
       "62"
      ]
     },
     "execution_count": 209,
     "metadata": {},
     "output_type": "execute_result"
    }
   ],
   "source": [
    "all_prods.SellerID.nunique()"
   ]
  },
  {
   "cell_type": "code",
   "execution_count": null,
   "metadata": {
    "id": "MfkM5XrAjZXF"
   },
   "outputs": [],
   "source": [
    "all_prods['product_id'] = range(1, len(all_prods) + 1)"
   ]
  },
  {
   "cell_type": "code",
   "execution_count": null,
   "metadata": {
    "id": "N7HEOMi_pTgK"
   },
   "outputs": [],
   "source": [
    "all_prods.columns = [ 'product_name', 'product_category', 'seller_id',\n",
    "       'quantity_in_stock', 'price','product_id']"
   ]
  },
  {
   "cell_type": "code",
   "execution_count": null,
   "metadata": {
    "id": "L0JVn7MUq4hC"
   },
   "outputs": [],
   "source": [
    "all_prods[prod_df.columns].to_csv('products_table_new.csv', index = False)"
   ]
  },
  {
   "cell_type": "code",
   "execution_count": null,
   "metadata": {
    "id": "oo6wq5evrTOa"
   },
   "outputs": [],
   "source": [
    "cities = pd.read_csv('citiesNY.csv')"
   ]
  },
  {
   "cell_type": "code",
   "execution_count": null,
   "metadata": {
    "id": "KYALvm0ewV5s"
   },
   "outputs": [],
   "source": [
    "cities = cities.City.tolist()"
   ]
  },
  {
   "cell_type": "code",
   "execution_count": null,
   "metadata": {
    "id": "ik9EuuBowW2H"
   },
   "outputs": [],
   "source": [
    "dist_oth = pd.read_csv('distance_from_NY.csv')"
   ]
  },
  {
   "cell_type": "code",
   "execution_count": null,
   "metadata": {
    "id": "ooXO15Np2j9z"
   },
   "outputs": [],
   "source": [
    "dist_oth['distance'] = dist_oth['distance'].apply(lambda x: x[:-3].replace(',', ''))"
   ]
  },
  {
   "cell_type": "code",
   "execution_count": null,
   "metadata": {
    "id": "VY9Z0QfHB5TL"
   },
   "outputs": [],
   "source": []
  },
  {
   "cell_type": "code",
   "execution_count": null,
   "metadata": {
    "id": "m7VFCAZr2lLS"
   },
   "outputs": [],
   "source": [
    "dist_oth.iloc[0,0] = 'Distance from Arkansas to New York'"
   ]
  },
  {
   "cell_type": "code",
   "execution_count": null,
   "metadata": {
    "id": "JENoDBuK3D7r"
   },
   "outputs": [],
   "source": [
    "states_1 =dist_oth['Distance_from'].apply(lambda x: x[14:-12])[:27].tolist()"
   ]
  },
  {
   "cell_type": "code",
   "execution_count": null,
   "metadata": {
    "id": "V9RrleaK3Qha"
   },
   "outputs": [],
   "source": [
    "states_1 += dist_oth['Distance_from'].apply(lambda x: x[26:])[27:].tolist()\n"
   ]
  },
  {
   "cell_type": "code",
   "execution_count": null,
   "metadata": {
    "id": "8saW3ntu4anG"
   },
   "outputs": [],
   "source": [
    "dist_oth['State'] = states_1"
   ]
  },
  {
   "cell_type": "code",
   "execution_count": null,
   "metadata": {
    "colab": {
     "base_uri": "https://localhost:8080/",
     "height": 1000
    },
    "id": "zSr4eq9Y4x7B",
    "outputId": "d1be8937-1604-4443-9c80-a16a1256ea0d"
   },
   "outputs": [
    {
     "data": {
      "text/html": [
       "\n",
       "  <div id=\"df-7702f2f4-ba1d-427b-a9c9-35b2c1a415f5\">\n",
       "    <div class=\"colab-df-container\">\n",
       "      <div>\n",
       "<style scoped>\n",
       "    .dataframe tbody tr th:only-of-type {\n",
       "        vertical-align: middle;\n",
       "    }\n",
       "\n",
       "    .dataframe tbody tr th {\n",
       "        vertical-align: top;\n",
       "    }\n",
       "\n",
       "    .dataframe thead th {\n",
       "        text-align: right;\n",
       "    }\n",
       "</style>\n",
       "<table border=\"1\" class=\"dataframe\">\n",
       "  <thead>\n",
       "    <tr style=\"text-align: right;\">\n",
       "      <th></th>\n",
       "      <th>Distance_from</th>\n",
       "      <th>distance</th>\n",
       "      <th>State</th>\n",
       "    </tr>\n",
       "  </thead>\n",
       "  <tbody>\n",
       "    <tr>\n",
       "      <th>0</th>\n",
       "      <td>Distance from Arkansas to New York</td>\n",
       "      <td>1675</td>\n",
       "      <td>Arkansas</td>\n",
       "    </tr>\n",
       "    <tr>\n",
       "      <th>1</th>\n",
       "      <td>Distance from Washington, D.C. to New York</td>\n",
       "      <td>328</td>\n",
       "      <td>Washington, D.C.</td>\n",
       "    </tr>\n",
       "    <tr>\n",
       "      <th>2</th>\n",
       "      <td>Distance from Delaware to New York</td>\n",
       "      <td>239</td>\n",
       "      <td>Delaware</td>\n",
       "    </tr>\n",
       "    <tr>\n",
       "      <th>3</th>\n",
       "      <td>Distance from Florida to New York</td>\n",
       "      <td>1605</td>\n",
       "      <td>Florida</td>\n",
       "    </tr>\n",
       "    <tr>\n",
       "      <th>4</th>\n",
       "      <td>Distance from Georgia to New York</td>\n",
       "      <td>1238</td>\n",
       "      <td>Georgia</td>\n",
       "    </tr>\n",
       "    <tr>\n",
       "      <th>5</th>\n",
       "      <td>Distance from Kansas to New York</td>\n",
       "      <td>2091</td>\n",
       "      <td>Kansas</td>\n",
       "    </tr>\n",
       "    <tr>\n",
       "      <th>6</th>\n",
       "      <td>Distance from Louisiana to New York</td>\n",
       "      <td>1941</td>\n",
       "      <td>Louisiana</td>\n",
       "    </tr>\n",
       "    <tr>\n",
       "      <th>7</th>\n",
       "      <td>Distance from Maryland to New York</td>\n",
       "      <td>291</td>\n",
       "      <td>Maryland</td>\n",
       "    </tr>\n",
       "    <tr>\n",
       "      <th>8</th>\n",
       "      <td>Distance from Missouri to New York</td>\n",
       "      <td>1560</td>\n",
       "      <td>Missouri</td>\n",
       "    </tr>\n",
       "    <tr>\n",
       "      <th>9</th>\n",
       "      <td>Distance from Mississippi to New York</td>\n",
       "      <td>1656</td>\n",
       "      <td>Mississippi</td>\n",
       "    </tr>\n",
       "    <tr>\n",
       "      <th>10</th>\n",
       "      <td>Distance from North Carolina to New York</td>\n",
       "      <td>703</td>\n",
       "      <td>North Carolina</td>\n",
       "    </tr>\n",
       "    <tr>\n",
       "      <th>11</th>\n",
       "      <td>Distance from Oklahoma to New York</td>\n",
       "      <td>2117</td>\n",
       "      <td>Oklahoma</td>\n",
       "    </tr>\n",
       "    <tr>\n",
       "      <th>12</th>\n",
       "      <td>Distance from South Carolina to New York</td>\n",
       "      <td>992</td>\n",
       "      <td>South Carolina</td>\n",
       "    </tr>\n",
       "    <tr>\n",
       "      <th>13</th>\n",
       "      <td>Distance from Tennessee to New York</td>\n",
       "      <td>1241</td>\n",
       "      <td>Tennessee</td>\n",
       "    </tr>\n",
       "    <tr>\n",
       "      <th>14</th>\n",
       "      <td>Distance from Texas to New York</td>\n",
       "      <td>2503</td>\n",
       "      <td>Texas</td>\n",
       "    </tr>\n",
       "    <tr>\n",
       "      <th>15</th>\n",
       "      <td>Distance from West Virginia to New York</td>\n",
       "      <td>600</td>\n",
       "      <td>West Virginia</td>\n",
       "    </tr>\n",
       "    <tr>\n",
       "      <th>16</th>\n",
       "      <td>Distance from Alabama to New York</td>\n",
       "      <td>1480</td>\n",
       "      <td>Alabama</td>\n",
       "    </tr>\n",
       "    <tr>\n",
       "      <th>17</th>\n",
       "      <td>Distance from Connecticut to New York</td>\n",
       "      <td>125</td>\n",
       "      <td>Connecticut</td>\n",
       "    </tr>\n",
       "    <tr>\n",
       "      <th>18</th>\n",
       "      <td>Distance from Iowa to New York</td>\n",
       "      <td>1597</td>\n",
       "      <td>Iowa</td>\n",
       "    </tr>\n",
       "    <tr>\n",
       "      <th>19</th>\n",
       "      <td>Distance from Illinois to New York</td>\n",
       "      <td>1296</td>\n",
       "      <td>Illinois</td>\n",
       "    </tr>\n",
       "    <tr>\n",
       "      <th>20</th>\n",
       "      <td>Distance from Indiana to New York</td>\n",
       "      <td>1026</td>\n",
       "      <td>Indiana</td>\n",
       "    </tr>\n",
       "    <tr>\n",
       "      <th>21</th>\n",
       "      <td>Distance from Maine to New York</td>\n",
       "      <td>626</td>\n",
       "      <td>Maine</td>\n",
       "    </tr>\n",
       "    <tr>\n",
       "      <th>22</th>\n",
       "      <td>Distance from Michigan to New York</td>\n",
       "      <td>1030</td>\n",
       "      <td>Michigan</td>\n",
       "    </tr>\n",
       "    <tr>\n",
       "      <th>23</th>\n",
       "      <td>Distance from Minnesota to New York</td>\n",
       "      <td>1785</td>\n",
       "      <td>Minnesota</td>\n",
       "    </tr>\n",
       "    <tr>\n",
       "      <th>24</th>\n",
       "      <td>Distance from Nebraska to New York</td>\n",
       "      <td>2163</td>\n",
       "      <td>Nebraska</td>\n",
       "    </tr>\n",
       "    <tr>\n",
       "      <th>25</th>\n",
       "      <td>Distance from New Hampshire to New York</td>\n",
       "      <td>341</td>\n",
       "      <td>New Hampshire</td>\n",
       "    </tr>\n",
       "    <tr>\n",
       "      <th>26</th>\n",
       "      <td>Distance from New Jersey to New York</td>\n",
       "      <td>80</td>\n",
       "      <td>New Jersey</td>\n",
       "    </tr>\n",
       "    <tr>\n",
       "      <th>27</th>\n",
       "      <td>Distance from New York to Ohio</td>\n",
       "      <td>752</td>\n",
       "      <td>Ohio</td>\n",
       "    </tr>\n",
       "    <tr>\n",
       "      <th>28</th>\n",
       "      <td>Distance from New York to Rhode Island</td>\n",
       "      <td>233</td>\n",
       "      <td>Rhode Island</td>\n",
       "    </tr>\n",
       "    <tr>\n",
       "      <th>29</th>\n",
       "      <td>Distance from New York to Vermont</td>\n",
       "      <td>443</td>\n",
       "      <td>Vermont</td>\n",
       "    </tr>\n",
       "    <tr>\n",
       "      <th>30</th>\n",
       "      <td>Distance from New York to Wisconsin</td>\n",
       "      <td>1262</td>\n",
       "      <td>Wisconsin</td>\n",
       "    </tr>\n",
       "    <tr>\n",
       "      <th>31</th>\n",
       "      <td>Distance from New York to California</td>\n",
       "      <td>3919</td>\n",
       "      <td>California</td>\n",
       "    </tr>\n",
       "    <tr>\n",
       "      <th>32</th>\n",
       "      <td>Distance from New York to Colorado</td>\n",
       "      <td>2690</td>\n",
       "      <td>Colorado</td>\n",
       "    </tr>\n",
       "    <tr>\n",
       "      <th>33</th>\n",
       "      <td>Distance from New York to New Mexico</td>\n",
       "      <td>2873</td>\n",
       "      <td>New Mexico</td>\n",
       "    </tr>\n",
       "    <tr>\n",
       "      <th>34</th>\n",
       "      <td>Distance from New York to Nevada</td>\n",
       "      <td>3596</td>\n",
       "      <td>Nevada</td>\n",
       "    </tr>\n",
       "    <tr>\n",
       "      <th>35</th>\n",
       "      <td>Distance from New York to Utah</td>\n",
       "      <td>3139</td>\n",
       "      <td>Utah</td>\n",
       "    </tr>\n",
       "    <tr>\n",
       "      <th>36</th>\n",
       "      <td>Distance from New York to Arizona</td>\n",
       "      <td>3334</td>\n",
       "      <td>Arizona</td>\n",
       "    </tr>\n",
       "    <tr>\n",
       "      <th>37</th>\n",
       "      <td>Distance from New York to Idaho</td>\n",
       "      <td>3332</td>\n",
       "      <td>Idaho</td>\n",
       "    </tr>\n",
       "    <tr>\n",
       "      <th>38</th>\n",
       "      <td>Distance from New York to Montana</td>\n",
       "      <td>2969</td>\n",
       "      <td>Montana</td>\n",
       "    </tr>\n",
       "    <tr>\n",
       "      <th>39</th>\n",
       "      <td>Distance from New York to North Dakota</td>\n",
       "      <td>2271</td>\n",
       "      <td>North Dakota</td>\n",
       "    </tr>\n",
       "    <tr>\n",
       "      <th>40</th>\n",
       "      <td>Distance from New York to Oregon</td>\n",
       "      <td>3796</td>\n",
       "      <td>Oregon</td>\n",
       "    </tr>\n",
       "    <tr>\n",
       "      <th>41</th>\n",
       "      <td>Distance from New York to South Dakota</td>\n",
       "      <td>2150</td>\n",
       "      <td>South Dakota</td>\n",
       "    </tr>\n",
       "  </tbody>\n",
       "</table>\n",
       "</div>\n",
       "      <button class=\"colab-df-convert\" onclick=\"convertToInteractive('df-7702f2f4-ba1d-427b-a9c9-35b2c1a415f5')\"\n",
       "              title=\"Convert this dataframe to an interactive table.\"\n",
       "              style=\"display:none;\">\n",
       "        \n",
       "  <svg xmlns=\"http://www.w3.org/2000/svg\" height=\"24px\"viewBox=\"0 0 24 24\"\n",
       "       width=\"24px\">\n",
       "    <path d=\"M0 0h24v24H0V0z\" fill=\"none\"/>\n",
       "    <path d=\"M18.56 5.44l.94 2.06.94-2.06 2.06-.94-2.06-.94-.94-2.06-.94 2.06-2.06.94zm-11 1L8.5 8.5l.94-2.06 2.06-.94-2.06-.94L8.5 2.5l-.94 2.06-2.06.94zm10 10l.94 2.06.94-2.06 2.06-.94-2.06-.94-.94-2.06-.94 2.06-2.06.94z\"/><path d=\"M17.41 7.96l-1.37-1.37c-.4-.4-.92-.59-1.43-.59-.52 0-1.04.2-1.43.59L10.3 9.45l-7.72 7.72c-.78.78-.78 2.05 0 2.83L4 21.41c.39.39.9.59 1.41.59.51 0 1.02-.2 1.41-.59l7.78-7.78 2.81-2.81c.8-.78.8-2.07 0-2.86zM5.41 20L4 18.59l7.72-7.72 1.47 1.35L5.41 20z\"/>\n",
       "  </svg>\n",
       "      </button>\n",
       "      \n",
       "  <style>\n",
       "    .colab-df-container {\n",
       "      display:flex;\n",
       "      flex-wrap:wrap;\n",
       "      gap: 12px;\n",
       "    }\n",
       "\n",
       "    .colab-df-convert {\n",
       "      background-color: #E8F0FE;\n",
       "      border: none;\n",
       "      border-radius: 50%;\n",
       "      cursor: pointer;\n",
       "      display: none;\n",
       "      fill: #1967D2;\n",
       "      height: 32px;\n",
       "      padding: 0 0 0 0;\n",
       "      width: 32px;\n",
       "    }\n",
       "\n",
       "    .colab-df-convert:hover {\n",
       "      background-color: #E2EBFA;\n",
       "      box-shadow: 0px 1px 2px rgba(60, 64, 67, 0.3), 0px 1px 3px 1px rgba(60, 64, 67, 0.15);\n",
       "      fill: #174EA6;\n",
       "    }\n",
       "\n",
       "    [theme=dark] .colab-df-convert {\n",
       "      background-color: #3B4455;\n",
       "      fill: #D2E3FC;\n",
       "    }\n",
       "\n",
       "    [theme=dark] .colab-df-convert:hover {\n",
       "      background-color: #434B5C;\n",
       "      box-shadow: 0px 1px 3px 1px rgba(0, 0, 0, 0.15);\n",
       "      filter: drop-shadow(0px 1px 2px rgba(0, 0, 0, 0.3));\n",
       "      fill: #FFFFFF;\n",
       "    }\n",
       "  </style>\n",
       "\n",
       "      <script>\n",
       "        const buttonEl =\n",
       "          document.querySelector('#df-7702f2f4-ba1d-427b-a9c9-35b2c1a415f5 button.colab-df-convert');\n",
       "        buttonEl.style.display =\n",
       "          google.colab.kernel.accessAllowed ? 'block' : 'none';\n",
       "\n",
       "        async function convertToInteractive(key) {\n",
       "          const element = document.querySelector('#df-7702f2f4-ba1d-427b-a9c9-35b2c1a415f5');\n",
       "          const dataTable =\n",
       "            await google.colab.kernel.invokeFunction('convertToInteractive',\n",
       "                                                     [key], {});\n",
       "          if (!dataTable) return;\n",
       "\n",
       "          const docLinkHtml = 'Like what you see? Visit the ' +\n",
       "            '<a target=\"_blank\" href=https://colab.research.google.com/notebooks/data_table.ipynb>data table notebook</a>'\n",
       "            + ' to learn more about interactive tables.';\n",
       "          element.innerHTML = '';\n",
       "          dataTable['output_type'] = 'display_data';\n",
       "          await google.colab.output.renderOutput(dataTable, element);\n",
       "          const docLink = document.createElement('div');\n",
       "          docLink.innerHTML = docLinkHtml;\n",
       "          element.appendChild(docLink);\n",
       "        }\n",
       "      </script>\n",
       "    </div>\n",
       "  </div>\n",
       "  "
      ],
      "text/plain": [
       "                                 Distance_from distance             State\n",
       "0           Distance from Arkansas to New York     1675          Arkansas\n",
       "1   Distance from Washington, D.C. to New York      328  Washington, D.C.\n",
       "2           Distance from Delaware to New York      239          Delaware\n",
       "3            Distance from Florida to New York     1605           Florida\n",
       "4            Distance from Georgia to New York     1238           Georgia\n",
       "5             Distance from Kansas to New York     2091            Kansas\n",
       "6          Distance from Louisiana to New York     1941         Louisiana\n",
       "7           Distance from Maryland to New York      291          Maryland\n",
       "8           Distance from Missouri to New York     1560          Missouri\n",
       "9        Distance from Mississippi to New York     1656       Mississippi\n",
       "10    Distance from North Carolina to New York      703    North Carolina\n",
       "11          Distance from Oklahoma to New York     2117          Oklahoma\n",
       "12    Distance from South Carolina to New York      992    South Carolina\n",
       "13         Distance from Tennessee to New York     1241         Tennessee\n",
       "14             Distance from Texas to New York     2503             Texas\n",
       "15     Distance from West Virginia to New York      600     West Virginia\n",
       "16           Distance from Alabama to New York     1480           Alabama\n",
       "17       Distance from Connecticut to New York      125       Connecticut\n",
       "18              Distance from Iowa to New York     1597              Iowa\n",
       "19          Distance from Illinois to New York     1296          Illinois\n",
       "20           Distance from Indiana to New York     1026           Indiana\n",
       "21             Distance from Maine to New York      626             Maine\n",
       "22          Distance from Michigan to New York     1030          Michigan\n",
       "23         Distance from Minnesota to New York     1785         Minnesota\n",
       "24          Distance from Nebraska to New York     2163          Nebraska\n",
       "25     Distance from New Hampshire to New York      341     New Hampshire\n",
       "26        Distance from New Jersey to New York       80        New Jersey\n",
       "27              Distance from New York to Ohio      752              Ohio\n",
       "28      Distance from New York to Rhode Island      233      Rhode Island\n",
       "29           Distance from New York to Vermont      443           Vermont\n",
       "30         Distance from New York to Wisconsin     1262         Wisconsin\n",
       "31        Distance from New York to California     3919        California\n",
       "32          Distance from New York to Colorado     2690          Colorado\n",
       "33        Distance from New York to New Mexico     2873        New Mexico\n",
       "34            Distance from New York to Nevada     3596            Nevada\n",
       "35              Distance from New York to Utah     3139              Utah\n",
       "36           Distance from New York to Arizona     3334           Arizona\n",
       "37             Distance from New York to Idaho     3332             Idaho\n",
       "38           Distance from New York to Montana     2969           Montana\n",
       "39      Distance from New York to North Dakota     2271      North Dakota\n",
       "40            Distance from New York to Oregon     3796            Oregon\n",
       "41      Distance from New York to South Dakota     2150      South Dakota"
      ]
     },
     "execution_count": 221,
     "metadata": {},
     "output_type": "execute_result"
    }
   ],
   "source": [
    "dist_oth"
   ]
  },
  {
   "cell_type": "code",
   "execution_count": null,
   "metadata": {
    "colab": {
     "base_uri": "https://localhost:8080/"
    },
    "id": "tzjGZJF24yzR",
    "outputId": "90b52d55-89a4-4f57-aac4-a971a6b4c364"
   },
   "outputs": [
    {
     "data": {
      "text/plain": [
       "62"
      ]
     },
     "execution_count": 222,
     "metadata": {},
     "output_type": "execute_result"
    }
   ],
   "source": [
    "len(cities)"
   ]
  },
  {
   "cell_type": "code",
   "execution_count": null,
   "metadata": {
    "id": "-Amrgv4n5m0f"
   },
   "outputs": [],
   "source": [
    "majorcit = pd.read_csv('majorUS_cities.csv')"
   ]
  },
  {
   "cell_type": "code",
   "execution_count": null,
   "metadata": {
    "id": "WBNDxJoC7yM5"
   },
   "outputs": [],
   "source": [
    "majorcit = majorcit[majorcit.State.apply(lambda x: x in dist_oth.State.tolist())]"
   ]
  },
  {
   "cell_type": "code",
   "execution_count": null,
   "metadata": {
    "id": "gzAugMah7zWq"
   },
   "outputs": [],
   "source": [
    "oth_cities = pd.merge(majorcit, dist_oth, on = 'State', how = 'left')"
   ]
  },
  {
   "cell_type": "code",
   "execution_count": null,
   "metadata": {
    "id": "DqnPGmdA8F1I"
   },
   "outputs": [],
   "source": [
    "oth_cities['time'] = np.ceil(oth_cities.distance.astype(int) / 50)"
   ]
  },
  {
   "cell_type": "code",
   "execution_count": null,
   "metadata": {
    "colab": {
     "base_uri": "https://localhost:8080/"
    },
    "id": "lXeeJHYb8pSl",
    "outputId": "aa58c28e-8cff-4610-e300-1d464dcee2d2"
   },
   "outputs": [
    {
     "data": {
      "text/plain": [
       "Index(['Rank', 'Name', 'State', '2022 Pop.', '2010 Census', 'Change',\n",
       "       'Density (mi²)', 'Area (mi²)', 'Distance_from', 'distance', 'time'],\n",
       "      dtype='object')"
      ]
     },
     "execution_count": 245,
     "metadata": {},
     "output_type": "execute_result"
    }
   ],
   "source": [
    "oth_cities.columns"
   ]
  },
  {
   "cell_type": "code",
   "execution_count": null,
   "metadata": {
    "id": "VnNkby3K84PH"
   },
   "outputs": [],
   "source": [
    "oth_cities = oth_cities[['Name', 'State', 'time']]"
   ]
  },
  {
   "cell_type": "code",
   "execution_count": null,
   "metadata": {
    "id": "avdqw3Q09VMc"
   },
   "outputs": [],
   "source": [
    "city_to_time = oth_cities.set_index('Name')['time']"
   ]
  },
  {
   "cell_type": "code",
   "execution_count": null,
   "metadata": {
    "id": "JatP4zcs9WGo"
   },
   "outputs": [],
   "source": [
    "cust_cities = oth_cities.Name.tolist() + cities"
   ]
  },
  {
   "cell_type": "code",
   "execution_count": null,
   "metadata": {
    "id": "uQQS746mC3kG"
   },
   "outputs": [],
   "source": [
    "multiple = oth_cities.Name.value_counts().index[:4] "
   ]
  },
  {
   "cell_type": "code",
   "execution_count": null,
   "metadata": {
    "id": "e7vd7ggs_Op0"
   },
   "outputs": [],
   "source": [
    "distance_table_list = []\n",
    "count = 0\n",
    "for cc in cust_cities:\n",
    "    for n, sc in enumerate(cities):\n",
    "        count +=1\n",
    "        if cc in multiple:\n",
    "            time_del = city_to_time[cc].iloc[0]\n",
    "        elif cc in oth_cities.Name.to_list():\n",
    "            time_del = city_to_time[cc]\n",
    "        else:\n",
    "            time_del = np.random.randint(2,7)\n",
    "        distance_table_list.append([count,cc, sc, time_del, n+1])"
   ]
  },
  {
   "cell_type": "code",
   "execution_count": null,
   "metadata": {
    "colab": {
     "base_uri": "https://localhost:8080/"
    },
    "id": "PJ8oaGmaBeE3",
    "outputId": "e87e7f9b-32d3-4872-ca1b-97917971c289"
   },
   "outputs": [
    {
     "data": {
      "text/plain": [
       "Index(['dist_id', 'customer_city', 'seller_city', 'time_to_deliver',\n",
       "       'seller_id'],\n",
       "      dtype='object')"
      ]
     },
     "execution_count": 269,
     "metadata": {},
     "output_type": "execute_result"
    }
   ],
   "source": [
    "dist_df.columns"
   ]
  },
  {
   "cell_type": "code",
   "execution_count": null,
   "metadata": {
    "id": "LCGcIh0hApLY"
   },
   "outputs": [],
   "source": [
    "dist_table_new = pd.DataFrame(distance_table_list, columns =  dist_df.columns)"
   ]
  },
  {
   "cell_type": "code",
   "execution_count": null,
   "metadata": {
    "colab": {
     "base_uri": "https://localhost:8080/"
    },
    "id": "0xCed1MIDWHw",
    "outputId": "533ec449-15dc-4637-b3c2-01bf50895932"
   },
   "outputs": [
    {
     "data": {
      "text/plain": [
       "['Los Angeles',\n",
       " 'Chicago',\n",
       " 'Houston',\n",
       " 'Phoenix',\n",
       " 'San Antonio',\n",
       " 'San Diego',\n",
       " 'Dallas',\n",
       " 'Austin',\n",
       " 'San Jose',\n",
       " 'Fort Worth',\n",
       " 'Jacksonville',\n",
       " 'Charlotte',\n",
       " 'Columbus',\n",
       " 'Indianapolis',\n",
       " 'San Francisco',\n",
       " 'Denver',\n",
       " 'El Paso',\n",
       " 'Nashville',\n",
       " 'Oklahoma City',\n",
       " 'Las Vegas',\n",
       " 'Portland',\n",
       " 'Detroit',\n",
       " 'Memphis',\n",
       " 'Milwaukee',\n",
       " 'Baltimore',\n",
       " 'Albuquerque',\n",
       " 'Tucson',\n",
       " 'Mesa',\n",
       " 'Fresno',\n",
       " 'Atlanta',\n",
       " 'Sacramento',\n",
       " 'Kansas City',\n",
       " 'Colorado Springs',\n",
       " 'Raleigh',\n",
       " 'Miami',\n",
       " 'Omaha',\n",
       " 'Long Beach',\n",
       " 'Oakland',\n",
       " 'Minneapolis',\n",
       " 'Tampa',\n",
       " 'Tulsa',\n",
       " 'Arlington',\n",
       " 'Aurora',\n",
       " 'Wichita',\n",
       " 'Bakersfield',\n",
       " 'New Orleans',\n",
       " 'Cleveland',\n",
       " 'Henderson',\n",
       " 'Anaheim',\n",
       " 'Riverside',\n",
       " 'Santa Ana',\n",
       " 'Corpus Christi',\n",
       " 'Stockton',\n",
       " 'St. Paul',\n",
       " 'Cincinnati',\n",
       " 'Irvine',\n",
       " 'Greensboro',\n",
       " 'Lincoln',\n",
       " 'Durham',\n",
       " 'Orlando',\n",
       " 'St. Louis',\n",
       " 'Chula Vista',\n",
       " 'Plano',\n",
       " 'Newark',\n",
       " 'Fort Wayne',\n",
       " 'Chandler',\n",
       " 'Reno',\n",
       " 'North Las Vegas',\n",
       " 'Scottsdale',\n",
       " 'St. Petersburg',\n",
       " 'Laredo',\n",
       " 'Gilbert',\n",
       " 'Toledo',\n",
       " 'Lubbock',\n",
       " 'Madison',\n",
       " 'Glendale',\n",
       " 'Jersey City',\n",
       " 'Winston-Salem',\n",
       " 'Fremont',\n",
       " 'Frisco',\n",
       " 'Paradise',\n",
       " 'Irving',\n",
       " 'Garland',\n",
       " 'Boise',\n",
       " 'Hialeah',\n",
       " 'Moreno Valley',\n",
       " 'Port St. Lucie',\n",
       " 'McKinney',\n",
       " 'Fontana',\n",
       " 'Modesto',\n",
       " 'Fayetteville',\n",
       " 'Baton Rouge',\n",
       " 'San Bernardino',\n",
       " 'Santa Clarita',\n",
       " 'Cape Coral',\n",
       " 'Des Moines',\n",
       " 'Tempe',\n",
       " 'Huntsville',\n",
       " 'Oxnard',\n",
       " 'Spring Valley',\n",
       " 'Birmingham',\n",
       " 'Overland Park',\n",
       " 'Grand Rapids',\n",
       " 'Salt Lake City',\n",
       " 'Columbus',\n",
       " 'Augusta',\n",
       " 'Amarillo',\n",
       " 'Tallahassee',\n",
       " 'Ontario',\n",
       " 'Montgomery',\n",
       " 'Little Rock',\n",
       " 'Akron',\n",
       " 'Huntington Beach',\n",
       " 'Grand Prairie',\n",
       " 'Glendale',\n",
       " 'Sioux Falls',\n",
       " 'Sunrise Manor',\n",
       " 'Aurora',\n",
       " 'Knoxville',\n",
       " 'Peoria',\n",
       " 'Mobile',\n",
       " 'Chattanooga',\n",
       " 'Brownsville',\n",
       " 'Fort Lauderdale',\n",
       " 'Elk Grove',\n",
       " 'Providence',\n",
       " 'Shreveport',\n",
       " 'Salem',\n",
       " 'Pembroke Pines',\n",
       " 'Eugene',\n",
       " 'Rancho Cucamonga',\n",
       " 'Cary',\n",
       " 'Santa Rosa',\n",
       " 'Fort Collins',\n",
       " 'Oceanside',\n",
       " 'Corona',\n",
       " 'Enterprise',\n",
       " 'Garden Grove',\n",
       " 'Springfield',\n",
       " 'Clarksville',\n",
       " 'Murfreesboro',\n",
       " 'Lakewood',\n",
       " 'Killeen',\n",
       " 'Midland',\n",
       " 'Hayward',\n",
       " 'Hollywood',\n",
       " 'Salinas',\n",
       " 'Lancaster',\n",
       " 'Macon',\n",
       " 'Surprise',\n",
       " 'Kansas City',\n",
       " 'Sunnyvale',\n",
       " 'Palmdale',\n",
       " 'Denton',\n",
       " 'Jackson',\n",
       " 'Escondido',\n",
       " 'Pomona',\n",
       " 'Naperville',\n",
       " 'Roseville',\n",
       " 'Thornton',\n",
       " 'Round Rock',\n",
       " 'Pasadena',\n",
       " 'Joliet',\n",
       " 'Carrollton',\n",
       " 'McAllen',\n",
       " 'Paterson',\n",
       " 'Rockford',\n",
       " 'Waco',\n",
       " 'Bridgeport',\n",
       " 'Miramar',\n",
       " 'Olathe',\n",
       " 'Metairie',\n",
       " 'Albany',\n",
       " 'Amsterdam',\n",
       " 'Auburn',\n",
       " 'Batavia',\n",
       " 'Beacon',\n",
       " 'Binghamton',\n",
       " 'Buffalo',\n",
       " 'Canandaigua',\n",
       " 'Cohoes',\n",
       " 'Corning',\n",
       " 'Cortland',\n",
       " 'Dunkirk',\n",
       " 'Elmira',\n",
       " 'Fulton',\n",
       " 'Geneva',\n",
       " 'Glen Cove',\n",
       " 'Glens Falls',\n",
       " 'Gloversville',\n",
       " 'Hornell',\n",
       " 'Hudson',\n",
       " 'Ithaca',\n",
       " 'Jamestown',\n",
       " 'Johnstown',\n",
       " 'Kingston',\n",
       " 'Lackawanna',\n",
       " 'Little Falls',\n",
       " 'Lockport',\n",
       " 'Long Beach',\n",
       " 'Mechanicville',\n",
       " 'Middletown',\n",
       " 'Mount Vernon',\n",
       " 'New Rochelle',\n",
       " 'New York City',\n",
       " 'Newburgh',\n",
       " 'Niagara Falls',\n",
       " 'North Tonawanda',\n",
       " 'Norwich',\n",
       " 'Ogdensburg',\n",
       " 'Olean',\n",
       " 'Oneida',\n",
       " 'Oneonta',\n",
       " 'Oswego',\n",
       " 'Peekskill',\n",
       " 'Plattsburgh',\n",
       " 'Port Jervis',\n",
       " 'Poughkeepsie',\n",
       " 'Rensselaer',\n",
       " 'Rochester',\n",
       " 'Rome',\n",
       " 'Rye',\n",
       " 'Salamanca',\n",
       " 'Saratoga Springs',\n",
       " 'Schenectady',\n",
       " 'Sherrill',\n",
       " 'Syracuse',\n",
       " 'Tonawanda',\n",
       " 'Troy',\n",
       " 'Utica',\n",
       " 'Watertown',\n",
       " 'Watervliet',\n",
       " 'White Plains',\n",
       " 'Yonkers']"
      ]
     },
     "execution_count": 271,
     "metadata": {},
     "output_type": "execute_result"
    }
   ],
   "source": [
    "cust_cities"
   ]
  },
  {
   "cell_type": "code",
   "execution_count": null,
   "metadata": {
    "colab": {
     "base_uri": "https://localhost:8080/",
     "height": 469
    },
    "id": "lSNjedRaFgpc",
    "outputId": "6de14320-e13d-4675-a2ee-02ed46fbdd2c"
   },
   "outputs": [
    {
     "data": {
      "text/html": [
       "\n",
       "  <div id=\"df-80bc47ab-4406-4b76-915f-01394fc8f7a2\">\n",
       "    <div class=\"colab-df-container\">\n",
       "      <div>\n",
       "<style scoped>\n",
       "    .dataframe tbody tr th:only-of-type {\n",
       "        vertical-align: middle;\n",
       "    }\n",
       "\n",
       "    .dataframe tbody tr th {\n",
       "        vertical-align: top;\n",
       "    }\n",
       "\n",
       "    .dataframe thead th {\n",
       "        text-align: right;\n",
       "    }\n",
       "</style>\n",
       "<table border=\"1\" class=\"dataframe\">\n",
       "  <thead>\n",
       "    <tr style=\"text-align: right;\">\n",
       "      <th></th>\n",
       "      <th>Name</th>\n",
       "      <th>State</th>\n",
       "      <th>time</th>\n",
       "    </tr>\n",
       "  </thead>\n",
       "  <tbody>\n",
       "    <tr>\n",
       "      <th>0</th>\n",
       "      <td>Los Angeles</td>\n",
       "      <td>California</td>\n",
       "      <td>79.0</td>\n",
       "    </tr>\n",
       "    <tr>\n",
       "      <th>1</th>\n",
       "      <td>Chicago</td>\n",
       "      <td>Illinois</td>\n",
       "      <td>26.0</td>\n",
       "    </tr>\n",
       "    <tr>\n",
       "      <th>2</th>\n",
       "      <td>Houston</td>\n",
       "      <td>Texas</td>\n",
       "      <td>51.0</td>\n",
       "    </tr>\n",
       "    <tr>\n",
       "      <th>3</th>\n",
       "      <td>Phoenix</td>\n",
       "      <td>Arizona</td>\n",
       "      <td>67.0</td>\n",
       "    </tr>\n",
       "    <tr>\n",
       "      <th>4</th>\n",
       "      <td>San Antonio</td>\n",
       "      <td>Texas</td>\n",
       "      <td>51.0</td>\n",
       "    </tr>\n",
       "    <tr>\n",
       "      <th>...</th>\n",
       "      <td>...</td>\n",
       "      <td>...</td>\n",
       "      <td>...</td>\n",
       "    </tr>\n",
       "    <tr>\n",
       "      <th>167</th>\n",
       "      <td>Waco</td>\n",
       "      <td>Texas</td>\n",
       "      <td>51.0</td>\n",
       "    </tr>\n",
       "    <tr>\n",
       "      <th>168</th>\n",
       "      <td>Bridgeport</td>\n",
       "      <td>Connecticut</td>\n",
       "      <td>3.0</td>\n",
       "    </tr>\n",
       "    <tr>\n",
       "      <th>169</th>\n",
       "      <td>Miramar</td>\n",
       "      <td>Florida</td>\n",
       "      <td>33.0</td>\n",
       "    </tr>\n",
       "    <tr>\n",
       "      <th>170</th>\n",
       "      <td>Olathe</td>\n",
       "      <td>Kansas</td>\n",
       "      <td>42.0</td>\n",
       "    </tr>\n",
       "    <tr>\n",
       "      <th>171</th>\n",
       "      <td>Metairie</td>\n",
       "      <td>Louisiana</td>\n",
       "      <td>39.0</td>\n",
       "    </tr>\n",
       "  </tbody>\n",
       "</table>\n",
       "<p>172 rows × 3 columns</p>\n",
       "</div>\n",
       "      <button class=\"colab-df-convert\" onclick=\"convertToInteractive('df-80bc47ab-4406-4b76-915f-01394fc8f7a2')\"\n",
       "              title=\"Convert this dataframe to an interactive table.\"\n",
       "              style=\"display:none;\">\n",
       "        \n",
       "  <svg xmlns=\"http://www.w3.org/2000/svg\" height=\"24px\"viewBox=\"0 0 24 24\"\n",
       "       width=\"24px\">\n",
       "    <path d=\"M0 0h24v24H0V0z\" fill=\"none\"/>\n",
       "    <path d=\"M18.56 5.44l.94 2.06.94-2.06 2.06-.94-2.06-.94-.94-2.06-.94 2.06-2.06.94zm-11 1L8.5 8.5l.94-2.06 2.06-.94-2.06-.94L8.5 2.5l-.94 2.06-2.06.94zm10 10l.94 2.06.94-2.06 2.06-.94-2.06-.94-.94-2.06-.94 2.06-2.06.94z\"/><path d=\"M17.41 7.96l-1.37-1.37c-.4-.4-.92-.59-1.43-.59-.52 0-1.04.2-1.43.59L10.3 9.45l-7.72 7.72c-.78.78-.78 2.05 0 2.83L4 21.41c.39.39.9.59 1.41.59.51 0 1.02-.2 1.41-.59l7.78-7.78 2.81-2.81c.8-.78.8-2.07 0-2.86zM5.41 20L4 18.59l7.72-7.72 1.47 1.35L5.41 20z\"/>\n",
       "  </svg>\n",
       "      </button>\n",
       "      \n",
       "  <style>\n",
       "    .colab-df-container {\n",
       "      display:flex;\n",
       "      flex-wrap:wrap;\n",
       "      gap: 12px;\n",
       "    }\n",
       "\n",
       "    .colab-df-convert {\n",
       "      background-color: #E8F0FE;\n",
       "      border: none;\n",
       "      border-radius: 50%;\n",
       "      cursor: pointer;\n",
       "      display: none;\n",
       "      fill: #1967D2;\n",
       "      height: 32px;\n",
       "      padding: 0 0 0 0;\n",
       "      width: 32px;\n",
       "    }\n",
       "\n",
       "    .colab-df-convert:hover {\n",
       "      background-color: #E2EBFA;\n",
       "      box-shadow: 0px 1px 2px rgba(60, 64, 67, 0.3), 0px 1px 3px 1px rgba(60, 64, 67, 0.15);\n",
       "      fill: #174EA6;\n",
       "    }\n",
       "\n",
       "    [theme=dark] .colab-df-convert {\n",
       "      background-color: #3B4455;\n",
       "      fill: #D2E3FC;\n",
       "    }\n",
       "\n",
       "    [theme=dark] .colab-df-convert:hover {\n",
       "      background-color: #434B5C;\n",
       "      box-shadow: 0px 1px 3px 1px rgba(0, 0, 0, 0.15);\n",
       "      filter: drop-shadow(0px 1px 2px rgba(0, 0, 0, 0.3));\n",
       "      fill: #FFFFFF;\n",
       "    }\n",
       "  </style>\n",
       "\n",
       "      <script>\n",
       "        const buttonEl =\n",
       "          document.querySelector('#df-80bc47ab-4406-4b76-915f-01394fc8f7a2 button.colab-df-convert');\n",
       "        buttonEl.style.display =\n",
       "          google.colab.kernel.accessAllowed ? 'block' : 'none';\n",
       "\n",
       "        async function convertToInteractive(key) {\n",
       "          const element = document.querySelector('#df-80bc47ab-4406-4b76-915f-01394fc8f7a2');\n",
       "          const dataTable =\n",
       "            await google.colab.kernel.invokeFunction('convertToInteractive',\n",
       "                                                     [key], {});\n",
       "          if (!dataTable) return;\n",
       "\n",
       "          const docLinkHtml = 'Like what you see? Visit the ' +\n",
       "            '<a target=\"_blank\" href=https://colab.research.google.com/notebooks/data_table.ipynb>data table notebook</a>'\n",
       "            + ' to learn more about interactive tables.';\n",
       "          element.innerHTML = '';\n",
       "          dataTable['output_type'] = 'display_data';\n",
       "          await google.colab.output.renderOutput(dataTable, element);\n",
       "          const docLink = document.createElement('div');\n",
       "          docLink.innerHTML = docLinkHtml;\n",
       "          element.appendChild(docLink);\n",
       "        }\n",
       "      </script>\n",
       "    </div>\n",
       "  </div>\n",
       "  "
      ],
      "text/plain": [
       "            Name        State  time\n",
       "0    Los Angeles   California  79.0\n",
       "1        Chicago     Illinois  26.0\n",
       "2        Houston        Texas  51.0\n",
       "3        Phoenix      Arizona  67.0\n",
       "4    San Antonio        Texas  51.0\n",
       "..           ...          ...   ...\n",
       "167         Waco        Texas  51.0\n",
       "168   Bridgeport  Connecticut   3.0\n",
       "169      Miramar      Florida  33.0\n",
       "170       Olathe       Kansas  42.0\n",
       "171     Metairie    Louisiana  39.0\n",
       "\n",
       "[172 rows x 3 columns]"
      ]
     },
     "execution_count": 274,
     "metadata": {},
     "output_type": "execute_result"
    }
   ],
   "source": [
    "oth_cities"
   ]
  },
  {
   "cell_type": "code",
   "execution_count": null,
   "metadata": {
    "id": "jkaCpnFIHWQF"
   },
   "outputs": [],
   "source": [
    "cust_cities = oth_cities[['Name', 'State']].copy()"
   ]
  },
  {
   "cell_type": "code",
   "execution_count": null,
   "metadata": {
    "id": "WxpeG_1dHpPy"
   },
   "outputs": [],
   "source": [
    "cust_cities = pd.concat([cust_cities, pd.DataFrame([[i, 'New YorK'] for i in cities], columns = ['Name', 'State'])], axis = 0)"
   ]
  },
  {
   "cell_type": "code",
   "execution_count": null,
   "metadata": {
    "id": "ch3yZztuHqly"
   },
   "outputs": [],
   "source": [
    "cust_cities.index = range(234)"
   ]
  },
  {
   "cell_type": "code",
   "execution_count": null,
   "metadata": {
    "colab": {
     "base_uri": "https://localhost:8080/",
     "height": 469
    },
    "id": "In1D13QOISl1",
    "outputId": "0f337cf1-bdd5-48ca-c697-ba43ec5d3823"
   },
   "outputs": [
    {
     "data": {
      "text/html": [
       "\n",
       "  <div id=\"df-eff6ce8f-e519-410c-b9ec-636f8f7562f0\">\n",
       "    <div class=\"colab-df-container\">\n",
       "      <div>\n",
       "<style scoped>\n",
       "    .dataframe tbody tr th:only-of-type {\n",
       "        vertical-align: middle;\n",
       "    }\n",
       "\n",
       "    .dataframe tbody tr th {\n",
       "        vertical-align: top;\n",
       "    }\n",
       "\n",
       "    .dataframe thead th {\n",
       "        text-align: right;\n",
       "    }\n",
       "</style>\n",
       "<table border=\"1\" class=\"dataframe\">\n",
       "  <thead>\n",
       "    <tr style=\"text-align: right;\">\n",
       "      <th></th>\n",
       "      <th>Name</th>\n",
       "      <th>State</th>\n",
       "    </tr>\n",
       "  </thead>\n",
       "  <tbody>\n",
       "    <tr>\n",
       "      <th>0</th>\n",
       "      <td>Los Angeles</td>\n",
       "      <td>California</td>\n",
       "    </tr>\n",
       "    <tr>\n",
       "      <th>1</th>\n",
       "      <td>Chicago</td>\n",
       "      <td>Illinois</td>\n",
       "    </tr>\n",
       "    <tr>\n",
       "      <th>2</th>\n",
       "      <td>Houston</td>\n",
       "      <td>Texas</td>\n",
       "    </tr>\n",
       "    <tr>\n",
       "      <th>3</th>\n",
       "      <td>Phoenix</td>\n",
       "      <td>Arizona</td>\n",
       "    </tr>\n",
       "    <tr>\n",
       "      <th>4</th>\n",
       "      <td>San Antonio</td>\n",
       "      <td>Texas</td>\n",
       "    </tr>\n",
       "    <tr>\n",
       "      <th>...</th>\n",
       "      <td>...</td>\n",
       "      <td>...</td>\n",
       "    </tr>\n",
       "    <tr>\n",
       "      <th>229</th>\n",
       "      <td>Utica</td>\n",
       "      <td>New YorK</td>\n",
       "    </tr>\n",
       "    <tr>\n",
       "      <th>230</th>\n",
       "      <td>Watertown</td>\n",
       "      <td>New YorK</td>\n",
       "    </tr>\n",
       "    <tr>\n",
       "      <th>231</th>\n",
       "      <td>Watervliet</td>\n",
       "      <td>New YorK</td>\n",
       "    </tr>\n",
       "    <tr>\n",
       "      <th>232</th>\n",
       "      <td>White Plains</td>\n",
       "      <td>New YorK</td>\n",
       "    </tr>\n",
       "    <tr>\n",
       "      <th>233</th>\n",
       "      <td>Yonkers</td>\n",
       "      <td>New YorK</td>\n",
       "    </tr>\n",
       "  </tbody>\n",
       "</table>\n",
       "<p>234 rows × 2 columns</p>\n",
       "</div>\n",
       "      <button class=\"colab-df-convert\" onclick=\"convertToInteractive('df-eff6ce8f-e519-410c-b9ec-636f8f7562f0')\"\n",
       "              title=\"Convert this dataframe to an interactive table.\"\n",
       "              style=\"display:none;\">\n",
       "        \n",
       "  <svg xmlns=\"http://www.w3.org/2000/svg\" height=\"24px\"viewBox=\"0 0 24 24\"\n",
       "       width=\"24px\">\n",
       "    <path d=\"M0 0h24v24H0V0z\" fill=\"none\"/>\n",
       "    <path d=\"M18.56 5.44l.94 2.06.94-2.06 2.06-.94-2.06-.94-.94-2.06-.94 2.06-2.06.94zm-11 1L8.5 8.5l.94-2.06 2.06-.94-2.06-.94L8.5 2.5l-.94 2.06-2.06.94zm10 10l.94 2.06.94-2.06 2.06-.94-2.06-.94-.94-2.06-.94 2.06-2.06.94z\"/><path d=\"M17.41 7.96l-1.37-1.37c-.4-.4-.92-.59-1.43-.59-.52 0-1.04.2-1.43.59L10.3 9.45l-7.72 7.72c-.78.78-.78 2.05 0 2.83L4 21.41c.39.39.9.59 1.41.59.51 0 1.02-.2 1.41-.59l7.78-7.78 2.81-2.81c.8-.78.8-2.07 0-2.86zM5.41 20L4 18.59l7.72-7.72 1.47 1.35L5.41 20z\"/>\n",
       "  </svg>\n",
       "      </button>\n",
       "      \n",
       "  <style>\n",
       "    .colab-df-container {\n",
       "      display:flex;\n",
       "      flex-wrap:wrap;\n",
       "      gap: 12px;\n",
       "    }\n",
       "\n",
       "    .colab-df-convert {\n",
       "      background-color: #E8F0FE;\n",
       "      border: none;\n",
       "      border-radius: 50%;\n",
       "      cursor: pointer;\n",
       "      display: none;\n",
       "      fill: #1967D2;\n",
       "      height: 32px;\n",
       "      padding: 0 0 0 0;\n",
       "      width: 32px;\n",
       "    }\n",
       "\n",
       "    .colab-df-convert:hover {\n",
       "      background-color: #E2EBFA;\n",
       "      box-shadow: 0px 1px 2px rgba(60, 64, 67, 0.3), 0px 1px 3px 1px rgba(60, 64, 67, 0.15);\n",
       "      fill: #174EA6;\n",
       "    }\n",
       "\n",
       "    [theme=dark] .colab-df-convert {\n",
       "      background-color: #3B4455;\n",
       "      fill: #D2E3FC;\n",
       "    }\n",
       "\n",
       "    [theme=dark] .colab-df-convert:hover {\n",
       "      background-color: #434B5C;\n",
       "      box-shadow: 0px 1px 3px 1px rgba(0, 0, 0, 0.15);\n",
       "      filter: drop-shadow(0px 1px 2px rgba(0, 0, 0, 0.3));\n",
       "      fill: #FFFFFF;\n",
       "    }\n",
       "  </style>\n",
       "\n",
       "      <script>\n",
       "        const buttonEl =\n",
       "          document.querySelector('#df-eff6ce8f-e519-410c-b9ec-636f8f7562f0 button.colab-df-convert');\n",
       "        buttonEl.style.display =\n",
       "          google.colab.kernel.accessAllowed ? 'block' : 'none';\n",
       "\n",
       "        async function convertToInteractive(key) {\n",
       "          const element = document.querySelector('#df-eff6ce8f-e519-410c-b9ec-636f8f7562f0');\n",
       "          const dataTable =\n",
       "            await google.colab.kernel.invokeFunction('convertToInteractive',\n",
       "                                                     [key], {});\n",
       "          if (!dataTable) return;\n",
       "\n",
       "          const docLinkHtml = 'Like what you see? Visit the ' +\n",
       "            '<a target=\"_blank\" href=https://colab.research.google.com/notebooks/data_table.ipynb>data table notebook</a>'\n",
       "            + ' to learn more about interactive tables.';\n",
       "          element.innerHTML = '';\n",
       "          dataTable['output_type'] = 'display_data';\n",
       "          await google.colab.output.renderOutput(dataTable, element);\n",
       "          const docLink = document.createElement('div');\n",
       "          docLink.innerHTML = docLinkHtml;\n",
       "          element.appendChild(docLink);\n",
       "        }\n",
       "      </script>\n",
       "    </div>\n",
       "  </div>\n",
       "  "
      ],
      "text/plain": [
       "             Name       State\n",
       "0     Los Angeles  California\n",
       "1         Chicago    Illinois\n",
       "2         Houston       Texas\n",
       "3         Phoenix     Arizona\n",
       "4     San Antonio       Texas\n",
       "..            ...         ...\n",
       "229         Utica    New YorK\n",
       "230     Watertown    New YorK\n",
       "231    Watervliet    New YorK\n",
       "232  White Plains    New YorK\n",
       "233       Yonkers    New YorK\n",
       "\n",
       "[234 rows x 2 columns]"
      ]
     },
     "execution_count": 285,
     "metadata": {},
     "output_type": "execute_result"
    }
   ],
   "source": [
    "cust_cities"
   ]
  },
  {
   "cell_type": "code",
   "execution_count": null,
   "metadata": {
    "id": "Je9103xBIcxW"
   },
   "outputs": [],
   "source": [
    "cust_table_li = []\n",
    "for i in range(len(cust_cities)):\n",
    "    if cust_cities.iloc[i]['State'] != 'New York':\n",
    "        n_rec = np.random.randint(1,4)\n",
    "    else:\n",
    "        n_rec = np.random.random(3,7)\n",
    "    \n",
    "    cust_table_li += [[cust_cities.iloc[i]['Name'], cust_cities.iloc[i]['State']]]*n_rec\n"
   ]
  },
  {
   "cell_type": "code",
   "execution_count": null,
   "metadata": {
    "id": "1pSkLmawJpwc"
   },
   "outputs": [],
   "source": [
    "customer_able = pd.DataFrame(cust_table_li, index = pd.Series(range(1,465), name = 'customer_id'),\n",
    "             columns = ['customer_city', 'customer_state'] )"
   ]
  },
  {
   "cell_type": "code",
   "execution_count": null,
   "metadata": {
    "id": "sn9EQbqiJsVp"
   },
   "outputs": [],
   "source": [
    "customer_able.to_csv('customers_table_new.csv')"
   ]
  },
  {
   "cell_type": "code",
   "execution_count": null,
   "metadata": {
    "id": "AFPBJzmCKoDf"
   },
   "outputs": [],
   "source": []
  },
  {
   "cell_type": "code",
   "execution_count": null,
   "metadata": {
    "id": "xu-VmoX7MN8o"
   },
   "outputs": [],
   "source": [
    "order_id = "
   ]
  }
 ],
 "metadata": {
  "colab": {
   "name": "data creation DMQL",
   "provenance": []
  },
  "kernelspec": {
   "display_name": "Python 3",
   "language": "python",
   "name": "python3"
  },
  "language_info": {
   "codemirror_mode": {
    "name": "ipython",
    "version": 3
   },
   "file_extension": ".py",
   "mimetype": "text/x-python",
   "name": "python",
   "nbconvert_exporter": "python",
   "pygments_lexer": "ipython3",
   "version": "3.8.8"
  }
 },
 "nbformat": 4,
 "nbformat_minor": 1
}
